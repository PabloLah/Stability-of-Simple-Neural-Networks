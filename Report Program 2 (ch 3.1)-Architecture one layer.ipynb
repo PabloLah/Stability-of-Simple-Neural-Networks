{
 "cells": [
  {
   "cell_type": "code",
   "execution_count": 13,
   "id": "90d53283",
   "metadata": {
    "scrolled": true
   },
   "outputs": [
    {
     "name": "stdout",
     "output_type": "stream",
     "text": [
      "Epoch 1/50\n",
      "50/50 [==============================] - 0s 910us/step - loss: 0.2148\n",
      "Epoch 2/50\n",
      "50/50 [==============================] - 0s 957us/step - loss: 0.0717\n",
      "Epoch 3/50\n",
      "50/50 [==============================] - 0s 997us/step - loss: 0.0515\n",
      "Epoch 4/50\n",
      "50/50 [==============================] - 0s 957us/step - loss: 0.0371\n",
      "Epoch 5/50\n",
      "50/50 [==============================] - 0s 917us/step - loss: 0.0273\n",
      "Epoch 6/50\n",
      "50/50 [==============================] - 0s 1ms/step - loss: 0.0208\n",
      "Epoch 7/50\n",
      "50/50 [==============================] - 0s 1ms/step - loss: 0.0167\n",
      "Epoch 8/50\n",
      "50/50 [==============================] - 0s 1ms/step - loss: 0.0140\n",
      "Epoch 9/50\n",
      "50/50 [==============================] - 0s 957us/step - loss: 0.0124\n",
      "Epoch 10/50\n",
      "50/50 [==============================] - 0s 1ms/step - loss: 0.0115\n",
      "Epoch 11/50\n",
      "50/50 [==============================] - 0s 918us/step - loss: 0.0109\n",
      "Epoch 12/50\n",
      "50/50 [==============================] - 0s 936us/step - loss: 0.0105\n",
      "Epoch 13/50\n",
      "50/50 [==============================] - 0s 1ms/step - loss: 0.0103\n",
      "Epoch 14/50\n",
      "50/50 [==============================] - 0s 1ms/step - loss: 0.0102\n",
      "Epoch 15/50\n",
      "50/50 [==============================] - 0s 1ms/step - loss: 0.0101\n",
      "Epoch 16/50\n",
      "50/50 [==============================] - 0s 1ms/step - loss: 0.0101\n",
      "Epoch 17/50\n",
      "50/50 [==============================] - 0s 1ms/step - loss: 0.0101\n",
      "Epoch 18/50\n",
      "50/50 [==============================] - 0s 1ms/step - loss: 0.0101\n",
      "Epoch 19/50\n",
      "50/50 [==============================] - 0s 1ms/step - loss: 0.0100\n",
      "Epoch 20/50\n",
      "50/50 [==============================] - 0s 1ms/step - loss: 0.0101\n",
      "Epoch 21/50\n",
      "50/50 [==============================] - 0s 835us/step - loss: 0.0100\n",
      "Epoch 22/50\n",
      "50/50 [==============================] - 0s 813us/step - loss: 0.0100\n",
      "Epoch 23/50\n",
      "50/50 [==============================] - 0s 916us/step - loss: 0.0100\n",
      "Epoch 24/50\n",
      "50/50 [==============================] - 0s 916us/step - loss: 0.0100\n",
      "Epoch 25/50\n",
      "50/50 [==============================] - 0s 997us/step - loss: 0.0101\n",
      "Epoch 26/50\n",
      "50/50 [==============================] - 0s 997us/step - loss: 0.0100\n",
      "Epoch 27/50\n",
      "50/50 [==============================] - 0s 916us/step - loss: 0.0101\n",
      "Epoch 28/50\n",
      "50/50 [==============================] - 0s 855us/step - loss: 0.0100\n",
      "Epoch 29/50\n",
      "50/50 [==============================] - 0s 916us/step - loss: 0.0100\n",
      "Epoch 30/50\n",
      "50/50 [==============================] - 0s 916us/step - loss: 0.0100\n",
      "Epoch 31/50\n",
      "50/50 [==============================] - 0s 886us/step - loss: 0.0100\n",
      "Epoch 32/50\n",
      "50/50 [==============================] - 0s 896us/step - loss: 0.0100\n",
      "Epoch 33/50\n",
      "50/50 [==============================] - 0s 825us/step - loss: 0.0100\n",
      "Epoch 34/50\n",
      "50/50 [==============================] - 0s 997us/step - loss: 0.0100\n",
      "Epoch 35/50\n",
      "50/50 [==============================] - 0s 916us/step - loss: 0.0100\n",
      "Epoch 36/50\n",
      "50/50 [==============================] - 0s 936us/step - loss: 0.0100\n",
      "Epoch 37/50\n",
      "50/50 [==============================] - 0s 916us/step - loss: 0.0100\n",
      "Epoch 38/50\n",
      "50/50 [==============================] - 0s 936us/step - loss: 0.0100\n",
      "Epoch 39/50\n",
      "50/50 [==============================] - 0s 936us/step - loss: 0.0100\n",
      "Epoch 40/50\n",
      "50/50 [==============================] - 0s 916us/step - loss: 0.0100\n",
      "Epoch 41/50\n",
      "50/50 [==============================] - 0s 957us/step - loss: 0.0100\n",
      "Epoch 42/50\n",
      "50/50 [==============================] - 0s 817us/step - loss: 0.0101\n",
      "Epoch 43/50\n",
      "50/50 [==============================] - 0s 836us/step - loss: 0.0100\n",
      "Epoch 44/50\n",
      "50/50 [==============================] - 0s 916us/step - loss: 0.0100\n",
      "Epoch 45/50\n",
      "50/50 [==============================] - 0s 936us/step - loss: 0.0100\n",
      "Epoch 46/50\n",
      "50/50 [==============================] - 0s 936us/step - loss: 0.0101\n",
      "Epoch 47/50\n",
      "50/50 [==============================] - 0s 997us/step - loss: 0.0100\n",
      "Epoch 48/50\n",
      "50/50 [==============================] - 0s 936us/step - loss: 0.0100\n",
      "Epoch 49/50\n",
      "50/50 [==============================] - 0s 896us/step - loss: 0.0100\n",
      "Epoch 50/50\n",
      "50/50 [==============================] - 0s 896us/step - loss: 0.0101\n"
     ]
    },
    {
     "data": {
      "image/png": "[encoded data removed]",
      "text/plain": [
       "<Figure size 432x288 with 1 Axes>"
      ]
     },
     "metadata": {
      "needs_background": "light"
     },
     "output_type": "display_data"
    }
   ],
   "source": [
    "#Note: We program a simple NN to interpolate a linear function.\n",
    "\n",
    "\n",
    "#generating random data from a linear function and adding noise\n",
    "#generate x-values uniformly inside the interval [0,1]\n",
    "import numpy as np\n",
    "X_data = np.random.uniform(0, 1, 1000)\n",
    "\n",
    "#generate noise with normal distribution\n",
    "noise = np.random.normal(0, 0.1, X_data.size)\n",
    "\n",
    "#generate values of the linear function: f(x) = alpha_prime * x\n",
    "#and add the noise\n",
    "alpha_prime = 2\n",
    "y_data = alpha_prime * X_data + noise\n",
    "\n",
    "\n",
    "#building the model\n",
    "#import the necessary functions from the tensorflow library\n",
    "from tensorflow.keras.models import Sequential\n",
    "from tensorflow.keras.layers import Dense\n",
    "\n",
    "#introduce the learning model: one hidden layer and one hidden node\n",
    "model = Sequential()\n",
    "model.add(Dense(10, input_dim=1, activation='relu', use_bias=True))\n",
    "model.add(Dense(1, activation='linear', use_bias=True))\n",
    "\n",
    "\n",
    "#compile the model\n",
    "model.compile(loss='mean_squared_error', optimizer='SGD')\n",
    "\n",
    "#fit the model to our data\n",
    "model.fit(X_data, y_data, epochs=50, batch_size=20)\n",
    "\n",
    "\n",
    "#evaluate the model\n",
    "predictions = model.predict(X_data)\n",
    "\n",
    "import matplotlib.pyplot as plt\n",
    "\n",
    "plt.clf()\n",
    "plt.plot(X_data,y_data,'.')\n",
    "plt.plot(X_data,predictions,'.')\n",
    "plt.xlabel('x-values')\n",
    "plt.ylabel('y-values')\n",
    "plt.show()"
   ]
  },
  {
   "cell_type": "code",
   "execution_count": 4,
   "id": "72cdd87e",
   "metadata": {
    "scrolled": true
   },
   "outputs": [
    {
     "name": "stdout",
     "output_type": "stream",
     "text": [
      "Once deleted, variables cannot be recovered. Proceed (y/[n])? y\n"
     ]
    }
   ],
   "source": [
    "%reset\n"
   ]
  },
  {
   "cell_type": "code",
   "execution_count": null,
   "id": "749a331e",
   "metadata": {},
   "outputs": [],
   "source": []
  }
 ],
 "metadata": {
  "kernelspec": {
   "display_name": "Python 3 (ipykernel)",
   "language": "python",
   "name": "python3"
  },
  "language_info": {
   "codemirror_mode": {
    "name": "ipython",
    "version": 3
   },
   "file_extension": ".py",
   "mimetype": "text/x-python",
   "name": "python",
   "nbconvert_exporter": "python",
   "pygments_lexer": "ipython3",
   "version": "3.9.7"
  }
 },
 "nbformat": 4,
 "nbformat_minor": 5
}
